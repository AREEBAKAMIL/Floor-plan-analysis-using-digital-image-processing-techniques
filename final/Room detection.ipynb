{
 "cells": [
  {
   "cell_type": "code",
   "execution_count": 16,
   "metadata": {},
   "outputs": [],
   "source": [
    "import cv2\n",
    "import numpy as np\n",
    "from matplotlib import pyplot as plt\n",
    "import random\n",
    "\n"
   ]
  },
  {
   "cell_type": "code",
   "execution_count": 17,
   "metadata": {},
   "outputs": [],
   "source": [
    "def find_rooms(img, noise_removal_threshold=25, corners_threshold=0.01,\n",
    "               room_closing_max_length=100, gap_in_wall_threshold=50):\n",
    "    \"\"\"\n",
    "\n",
    "    :param img: grey scale image of rooms, already eroded and doors removed etc.\n",
    "    :param noise_removal_threshold: Minimal area of blobs to be kept.\n",
    "    :param corners_threshold: Threshold to allow corners. Higher removes more of the house.\n",
    "    :param room_closing_max_length: Maximum line length to add to close off open doors.\n",
    "    :param gap_in_wall_threshold: Minimum number of pixels to identify component as room instead of hole in the wall.\n",
    "    :return: rooms: list of numpy arrays containing boolean masks for each detected room\n",
    "             colored_house: A colored version of the input image, where each room has a random color.\n",
    "    \"\"\"\n",
    "    assert 0 <= corners_threshold <= 1\n",
    "    # Remove noise left from door removal\n",
    "\n",
    "    img[img < 128] = 0\n",
    "    img[img > 128] = 255\n",
    "    contours, hierarchy = cv2.findContours(img, cv2.RETR_EXTERNAL, cv2.CHAIN_APPROX_SIMPLE)\n",
    "\n",
    "    mask = np.zeros_like(img)\n",
    "    for contour in contours:\n",
    "        area = cv2.contourArea(contour)\n",
    "        if area > noise_removal_threshold:\n",
    "            cv2.fillPoly(mask, [contour], 255)\n",
    "\n",
    "    img = ~mask\n",
    "\n",
    "    # Detect corners (you can play with the parameters here)\n",
    "    dst = cv2.cornerHarris(img ,2,3,0.04)\n",
    "    dst = cv2.dilate(dst,None)\n",
    "    corners = dst > corners_threshold * dst.max()\n",
    "\n",
    "    # Draw lines to close the rooms off by adding a line between corners on the same x or y coordinate\n",
    "    # This gets some false positives.\n",
    "    # You could try to disallow drawing through other existing lines for example.\n",
    "    for y,row in enumerate(corners):\n",
    "        x_same_y = np.argwhere(row)\n",
    "        for x1, x2 in zip(x_same_y[:-1], x_same_y[1:]):\n",
    "\n",
    "            if x2[0] - x1[0] < room_closing_max_length:\n",
    "                color = 0\n",
    "                cv2.line(img, (x1, y), (x2, y), color, 1)\n",
    "\n",
    "    for x,col in enumerate(corners.T):\n",
    "        y_same_x = np.argwhere(col)\n",
    "        for y1, y2 in zip(y_same_x[:-1], y_same_x[1:]):\n",
    "            if y2[0] - y1[0] < room_closing_max_length:\n",
    "                color = 0\n",
    "                cv2.line(img, (x, y1), (x, y2), color, 1)\n",
    "\n",
    "\n",
    "    # Mark the outside of the house as black\n",
    "    contours, hierarchy = cv2.findContours(~img, cv2.RETR_EXTERNAL, cv2.CHAIN_APPROX_SIMPLE)\n",
    "    contour_sizes = [(cv2.contourArea(contour), contour) for contour in contours]\n",
    "    biggest_contour = max(contour_sizes, key=lambda x: x[0])[1]\n",
    "    mask = np.zeros_like(mask)\n",
    "    cv2.fillPoly(mask, [biggest_contour], 255)\n",
    "    img[mask == 0] = 0\n",
    "\n",
    "    # Find the connected components in the house\n",
    "    ret, labels = cv2.connectedComponents(img)\n",
    "    img = cv2.cvtColor(img,cv2.COLOR_GRAY2RGB)\n",
    "    unique = np.unique(labels)\n",
    "    rooms = []\n",
    "    for label in unique:\n",
    "        component = labels == label\n",
    "        if img[component].sum() == 0 or np.count_nonzero(component) < gap_in_wall_threshold:\n",
    "            color = 0\n",
    "        else:\n",
    "            rooms.append(component)\n",
    "            color = np.random.randint(0, 255, size=3)\n",
    "        img[component] = color\n",
    "\n",
    "    return rooms, img\n"
   ]
  },
  {
   "cell_type": "code",
   "execution_count": 18,
   "metadata": {},
   "outputs": [],
   "source": [
    "def get_bearing_walls(origianl_image):\n",
    "    gray = cv2.cvtColor(origianl_image, cv2.COLOR_RGB2GRAY)\n",
    "\n",
    "    # binary inverse thresholding\n",
    "    _, thresh = cv2.threshold(gray, 127, 255, cv2.THRESH_BINARY_INV)\n",
    "    \n",
    "    plt.figure(figsize = (60,6))\n",
    "    plt.imshow(thresh, cmap='gray')\n",
    "    plt.title('thresh')\n",
    "    plt.xticks([]), plt.yticks([])\n",
    "    plt.show()\n",
    "\n",
    "    kernel = np.ones((3, 3), np.float32)\n",
    "    bearing_walls = cv2.morphologyEx(thresh, cv2.MORPH_OPEN, kernel)\n",
    "    \n",
    "\n",
    "\n",
    "    # _, bearing_walls_inv = cv2.threshold(bearing_walls, 127, 255, cv2.THRESH_BINARY_INV)\n",
    "\n",
    "    return bearing_walls\n"
   ]
  },
  {
   "cell_type": "code",
   "execution_count": 19,
   "metadata": {},
   "outputs": [
    {
     "data": {
      "image/png": "[encoded data removed]",
      "text/plain": [
       "<Figure size 4320x432 with 1 Axes>"
      ]
     },
     "metadata": {},
     "output_type": "display_data"
    }
   ],
   "source": [
    "#read the image\n",
    "\n",
    "img_path = \"../Data/floorplans_VOA/DFirstFloor.jpg\"\n",
    "original_image = cv2.imread(img_path)\n",
    "\n",
    "\n",
    "img_copy = original_image.copy()\n",
    "a, b, c = original_image.shape\n",
    "blank_img = np.zeros([a, b, c], np.uint8)\n",
    "blank_img.fill(255)\n",
    "\n",
    "room_bounary_contours = blank_img.copy()\n",
    "\n",
    "bearing_walls = get_bearing_walls(original_image)\n",
    "\n"
   ]
  },
  {
   "cell_type": "code",
   "execution_count": 20,
   "metadata": {},
   "outputs": [],
   "source": [
    "rooms1, colored_rooms = find_rooms(bearing_walls.copy())\n",
    "colored_rooms1 = colored_rooms.copy()\n",
    "\n",
    "gray2 = cv2.cvtColor(colored_rooms1, cv2.COLOR_BGR2GRAY)\n",
    "_, thresh2 = cv2.threshold(gray2, 0, 255, cv2.THRESH_BINARY_INV)\n",
    "\n",
    "# draw contours over colored rooms\n",
    "contours2, hierachy2 = cv2.findContours(thresh2, cv2.RETR_TREE, cv2.CHAIN_APPROX_SIMPLE)\n",
    "\n",
    "for c in contours2:\n",
    "    cv2.drawContours(room_bounary_contours, [c], -1,\n",
    "                     (random.randrange(0, 200), random.randrange(0, 200), random.randrange(0, 200))\n",
    "                     , 2)"
   ]
  },
  {
   "cell_type": "code",
   "execution_count": 21,
   "metadata": {},
   "outputs": [
    {
     "data": {
      "image/png": "[encoded data removed]",
      "text/plain": [
       "<Figure size 4320x432 with 1 Axes>"
      ]
     },
     "metadata": {},
     "output_type": "display_data"
    },
    {
     "data": {
      "image/png": "[encoded data removed]",
      "text/plain": [
       "<Figure size 4320x432 with 1 Axes>"
      ]
     },
     "metadata": {},
     "output_type": "display_data"
    }
   ],
   "source": [
    "plt.figure(figsize = (60,6))\n",
    "plt.imshow(colored_rooms, cmap='gray')\n",
    "plt.title('colored_rooms')\n",
    "plt.xticks([]), plt.yticks([])\n",
    "plt.show()\n",
    "\n",
    "plt.figure(figsize = (60,6))\n",
    "plt.imshow(room_bounary_contours, cmap='gray')\n",
    "plt.title('room_bounary_contours')\n",
    "plt.xticks([]), plt.yticks([])\n",
    "plt.show()"
   ]
  },
  {
   "cell_type": "code",
   "execution_count": null,
   "metadata": {},
   "outputs": [],
   "source": []
  }
 ],
 "metadata": {
  "kernelspec": {
   "display_name": "Python 3",
   "language": "python",
   "name": "python3"
  },
  "language_info": {
   "codemirror_mode": {
    "name": "ipython",
    "version": 3
   },
   "file_extension": ".py",
   "mimetype": "text/x-python",
   "name": "python",
   "nbconvert_exporter": "python",
   "pygments_lexer": "ipython3",
   "version": "3.7.3"
  }
 },
 "nbformat": 4,
 "nbformat_minor": 2
}
